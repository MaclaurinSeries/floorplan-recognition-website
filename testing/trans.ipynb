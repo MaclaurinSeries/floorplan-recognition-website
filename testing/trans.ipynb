{
 "cells": [
  {
   "cell_type": "code",
   "execution_count": 10,
   "metadata": {},
   "outputs": [],
   "source": [
    "import os\n",
    "from PIL import Image\n",
    "from pathlib import Path\n",
    "\n",
    "iterator = 1\n",
    "p = Path('./image')\n",
    "for f in os.listdir('./image'):\n",
    "  old_dir = p / f\n",
    "\n",
    "  img = Image.open(p / f)\n",
    "  img.save(p / f'TEXT{iterator:02d}.png')\n",
    "  iterator += 1"
   ]
  },
  {
   "cell_type": "code",
   "execution_count": 12,
   "metadata": {},
   "outputs": [],
   "source": [
    "q = Path('./label')\n",
    "for f in os.listdir('./image'):\n",
    "  if not f.startswith('TEXT'):\n",
    "    continue\n",
    "  old_dir = p / f\n",
    "\n",
    "  img = Image.open(p / f)\n",
    "  Image.new(\"RGB\", img.size).save(q / f)"
   ]
  }
 ],
 "metadata": {
  "kernelspec": {
   "display_name": "Python 3.10.6 ('ta-env')",
   "language": "python",
   "name": "python3"
  },
  "language_info": {
   "codemirror_mode": {
    "name": "ipython",
    "version": 3
   },
   "file_extension": ".py",
   "mimetype": "text/x-python",
   "name": "python",
   "nbconvert_exporter": "python",
   "pygments_lexer": "ipython3",
   "version": "3.10.6"
  },
  "orig_nbformat": 4,
  "vscode": {
   "interpreter": {
    "hash": "6977dbf36bcfae3fb6c882637efae515150e5d4f4734250e0512dd56e23f3f69"
   }
  }
 },
 "nbformat": 4,
 "nbformat_minor": 2
}
